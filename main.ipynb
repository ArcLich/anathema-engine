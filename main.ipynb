{
 "metadata": {
  "language_info": {
   "codemirror_mode": {
    "name": "ipython",
    "version": 3
   },
   "file_extension": ".py",
   "mimetype": "text/x-python",
   "name": "python",
   "nbconvert_exporter": "python",
   "pygments_lexer": "ipython3",
   "version": "3.9.1"
  },
  "orig_nbformat": 2,
  "kernelspec": {
   "name": "python3",
   "display_name": "Python 3.9.1 64-bit"
  },
  "interpreter": {
   "hash": "2bbcba5368360aeea8cb64cf8c97e3609d0d4262ce1cdfd07c65506feddcc963"
  }
 },
 "nbformat": 4,
 "nbformat_minor": 2,
 "cells": [
  {
   "cell_type": "code",
   "execution_count": null,
   "source": [
    "\"\"\"\r\n",
    "Not Magnus\r\n",
    "Classical chess engine by Devin Zhang\r\n",
    "\r\n",
    "September 2021 - \r\n",
    "\"\"\"\r\n",
    "import random\r\n",
    "import chess\r\n",
    "from evaluate import *\r\n",
    "from search import *\r\n",
    "from util import *\r\n",
    "\r\n",
    "\r\n",
    "def main():\r\n",
    "    board = chess.Board()\r\n",
    "\r\n",
    "    display(board)\r\n",
    "\r\n",
    "    if START_AS == \"BLACK\":\r\n",
    "        board.push(cpu_move(board))\r\n",
    "    elif START_AS == \"RANDOM\":\r\n",
    "        if random.randint(0, 1):\r\n",
    "            board.push(cpu_move(board))\r\n",
    "    display(board)\r\n",
    "\r\n",
    "    while (not board.is_game_over()) or (not board.can_claim_draw()):\r\n",
    "        move = input()\r\n",
    "\r\n",
    "        if move == \"undo\" and board.ply() >= 3: # Undo the last inputted move\r\n",
    "            board.pop()\r\n",
    "            board.pop()\r\n",
    "            display(board)\r\n",
    "            continue\r\n",
    "\r\n",
    "        try:\r\n",
    "            board.push_san(move) # Play human's move\r\n",
    "            if board.is_game_over():\r\n",
    "                break\r\n",
    "            display(board)\r\n",
    "\r\n",
    "            board.push(cpu_move(board)) # Play computer's move\r\n",
    "        except ValueError:\r\n",
    "            None\r\n",
    "\r\n",
    "        display(board)\r\n",
    "\r\n",
    "main()"
   ],
   "outputs": [],
   "metadata": {}
  }
 ]
}