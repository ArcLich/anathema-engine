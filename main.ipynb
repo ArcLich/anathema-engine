{
 "cells": [
  {
   "cell_type": "code",
   "execution_count": null,
   "metadata": {},
   "outputs": [],
   "source": [
    "\"\"\"\n",
    "Not Magnus\n",
    "Classical chess engine by Devin Zhang\n",
    "\n",
    "September 2021 - \n",
    "\"\"\"\n",
    "import random\n",
    "import chess\n",
    "from evaluate import *\n",
    "from search import *\n",
    "from util import *\n",
    "\n",
    "\n",
    "def main():\n",
    "    board = chess.Board()\n",
    "    display(board)\n",
    "\n",
    "    if START_AS == \"BLACK\":\n",
    "        board.push(cpu_move(board, DEPTH))\n",
    "    elif START_AS == \"RANDOM\":\n",
    "        if random.randint(0, 1):\n",
    "            board.push(cpu_move(board, DEPTH))\n",
    "    display(board)\n",
    "\n",
    "    while (not board.is_game_over(claim_draw = True)):\n",
    "        move = input()\n",
    "\n",
    "        if move == \"undo\" and board.ply() >= 3: # Undo the last inputted move\n",
    "            board.pop()\n",
    "            board.pop()\n",
    "            display(board)\n",
    "            continue\n",
    "\n",
    "        try:\n",
    "            board.push_san(move) # Play human's moved\n",
    "            display(board)\n",
    "            if board.is_game_over():\n",
    "                break\n",
    "\n",
    "            board.push(cpu_move(board, DEPTH)) # Play computer's move\n",
    "        except ValueError:\n",
    "            None\n",
    "\n",
    "        display(board)\n",
    "\n",
    "main()"
   ]
  }
 ],
 "metadata": {
  "interpreter": {
   "hash": "2bbcba5368360aeea8cb64cf8c97e3609d0d4262ce1cdfd07c65506feddcc963"
  },
  "kernelspec": {
   "display_name": "Python 3.9.1 64-bit",
   "name": "python3"
  },
  "language_info": {
   "codemirror_mode": {
    "name": "ipython",
    "version": 3
   },
   "file_extension": ".py",
   "mimetype": "text/x-python",
   "name": "python",
   "nbconvert_exporter": "python",
   "pygments_lexer": "ipython3",
   "version": "3.9.1"
  },
  "orig_nbformat": 2
 },
 "nbformat": 4,
 "nbformat_minor": 2
}
